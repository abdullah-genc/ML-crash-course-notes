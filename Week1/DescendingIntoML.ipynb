{
 "cells": [
  {
   "cell_type": "markdown",
   "metadata": {},
   "source": [
    "# Descending into ML"
   ]
  },
  {
   "cell_type": "markdown",
   "metadata": {},
   "source": [
    "---"
   ]
  },
  {
   "cell_type": "markdown",
   "metadata": {},
   "source": [
    "### Linear Regression\n",
    "\n",
    "Lineer Regresyonda modelimiz eğitim setindeki verilerimiz üzerinde doğrusal bir ilişki yakalamaya çalışmaktadır. Aşağıdaki resimleri incelediğimizde bunu daha iyi anlayacağız. \n",
    "\n",
    "![lin1](images/linear1.png)\n",
    "\n",
    "![lin2](images/linear2.png)\n",
    "\n",
    "\n",
    "Yukarıdaki doğrusal çizgi bizim modelimiz. Verileri gözlemledi ve olabildiğince her birine yakın durmaya çalıştı ve bir doğrusallık yakalayabildi.\n",
    "\n",
    "Bu ilişkiyi matematiksel olarak şu şekilde yazabiliriz. \n",
    "\n",
    "y = mx + b\n",
    "\n",
    "- y : elde etmeye çalıştığımız tahmin değerimiz\n",
    "- m : eğim\n",
    "- b : y kesme noktası\n",
    "\n",
    "ML de ise bu eşitiği şu şekilde yazıyoruz:\n",
    "\n",
    "![equ1](images/equation1.png)\n",
    "\n",
    "- y(üs) : etiket ( label )\n",
    "- b : bias (y kesişim )\n",
    "- w bizim ağrılık değerimiz - eğim\n",
    "- x : özellik ( feature )\n",
    "\n",
    "\n",
    "Eğer birden fazla özeliğimiz var ise birden fazla ağırlığımız olacaktır. İleride kullanacağız, bir denklem örneğini aşağıya bırakıyorum.\n",
    "\n",
    "![equ2](images/equation2.png)\n"
   ]
  },
  {
   "cell_type": "markdown",
   "metadata": {},
   "source": [
    "### Trainin & Loss \n",
    "\n",
    "Bu konunun çok iyi anlaşılması gerektiğini düşünüyorum. Bu video bana çok yardımcı olmuştu.[Clearly Explained - StatQuest](https://www.youtube.com/watch?v=sDv4f4s2SB8)"
   ]
  },
  {
   "cell_type": "markdown",
   "metadata": {},
   "source": [
    "Ek kaynaklar: \n",
    "\n",
    "- [ Course Original Link ](https://developers.google.com/machine-learning/crash-course/descending-into-ml/linear-regression)\n",
    "- [ Course Original Link ](https://developers.google.com/machine-learning/crash-course/descending-into-ml/training-and-loss)\n",
    "- [ Linear Regression Nedir ? ](https://medium.com/@ekrem.hatipoglu/machine-learning-prediction-algorithms-linear-regression-part-2-7011eff18f5)"
   ]
  },
  {
   "cell_type": "markdown",
   "metadata": {},
   "source": [
    "**_Enes Çavuş_**"
   ]
  },
  {
   "cell_type": "markdown",
   "metadata": {},
   "source": []
  }
 ],
 "metadata": {
  "kernelspec": {
   "display_name": "Python 3",
   "language": "python",
   "name": "python3"
  },
  "language_info": {
   "codemirror_mode": {
    "name": "ipython",
    "version": 3
   },
   "file_extension": ".py",
   "mimetype": "text/x-python",
   "name": "python",
   "nbconvert_exporter": "python",
   "pygments_lexer": "ipython3",
   "version": "3.7.6"
  }
 },
 "nbformat": 4,
 "nbformat_minor": 4
}
