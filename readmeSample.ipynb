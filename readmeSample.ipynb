{
 "cells": [
  {
   "cell_type": "markdown",
   "metadata": {},
   "source": [
    "# **Google's Machine Learning Crash Course Notes.**\n",
    "\n",
    "\n",
    "\n",
    "**_Not:_** Tüm notlar [bu kaynak](https://developers.google.com/machine-learning/crash-course/ml-intro)tan esinlenerek ve ek araştırmalardan yararlanarak hazırlanmıştır. Her bir notta kullanılan tüm kaynaklar her notebook sonuna eklenmiştir."
   ]
  },
  {
   "cell_type": "markdown",
   "metadata": {},
   "source": [
    "### Bu notlar 1 aylık süreç boyunca haftalık olarak güncellenecektir. \n",
    "\n",
    "### Kursun ingilizce olmasından dolayı, vakit buldukça, note ve notebookların ingilizcelerini de hazırlamaya çalışacağım.\n",
    "\n",
    "### Bu kurs boyunca mentorluk programı dahilinde bizlere yardımcı olan Google Developers , Deep Learning Türkiye ve Global AI Hub ailelerine teşekkür ediyorum. \n",
    "\n",
    "\n"
   ]
  },
  {
   "cell_type": "markdown",
   "metadata": {},
   "source": [
    "## Week 1 ( Bir kısmına değinildi. Düzenlenecektir! )\n",
    "\n",
    "- [First Steps With TensorFlow API](Week1/FirstStepWithTF.ipynb)\n",
    "\n",
    "---\n",
    "\n"
   ]
  },
  {
   "cell_type": "markdown",
   "metadata": {},
   "source": [
    "## Week 2 ( Tamamlandı )\n",
    "\n",
    "- [Representation](Week2/Representation.ipynb)\n",
    "- [Feature Crosses](Week2/FeatureCrosses.ipynb)\n",
    "- [Regularization: Simplicity](Week2/Regularization.ipynb)\n",
    "- [Logistic Regression](Week2/LogisticRegression.ipynb)\n",
    "\n",
    "---"
   ]
  },
  {
   "cell_type": "markdown",
   "metadata": {},
   "source": [
    "\n",
    "\n",
    "## Week 3 ( Tamamlandı )\n",
    "\n",
    "- [Classification](Week3/Classification.ipynb)\n",
    "- [Regularization: Sparsity ](Week3/L1_regularization.ipynb)\n",
    "- [Neural Networks](Week3/Neuralnetworks.ipynb)\n",
    "- [Neural Nets Colab Exercise](Week3/NeuralNetsColab.ipynb)\n",
    "- [Multi Class Neural Nets](Week3/MultiClassNets.ipynb)\n",
    "\n",
    "---"
   ]
  },
  {
   "cell_type": "markdown",
   "metadata": {},
   "source": [
    "**_Enes Çavuş_**"
   ]
  },
  {
   "cell_type": "code",
   "execution_count": null,
   "metadata": {},
   "outputs": [],
   "source": []
  }
 ],
 "metadata": {
  "kernelspec": {
   "display_name": "Python 3",
   "language": "python",
   "name": "python3"
  },
  "language_info": {
   "codemirror_mode": {
    "name": "ipython",
    "version": 3
   },
   "file_extension": ".py",
   "mimetype": "text/x-python",
   "name": "python",
   "nbconvert_exporter": "python",
   "pygments_lexer": "ipython3",
   "version": "3.7.6"
  }
 },
 "nbformat": 4,
 "nbformat_minor": 4
}
