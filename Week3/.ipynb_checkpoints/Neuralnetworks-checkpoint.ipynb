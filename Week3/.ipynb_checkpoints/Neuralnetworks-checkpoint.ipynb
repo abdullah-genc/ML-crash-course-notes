{
 "cells": [
  {
   "cell_type": "markdown",
   "metadata": {},
   "source": [
    "# Neural Networks"
   ]
  },
  {
   "cell_type": "markdown",
   "metadata": {},
   "source": [
    "**Neural network** nedir ?\n",
    "\n",
    "İnsan beynindeki nöronlardan esinlenerek bilgisayar ortamında geliştirilmiş makine öğrenmesi algoritmalarında yer alan yöntemlerde biridir.\n",
    "\n",
    "İnsan beyni inanılmaz derecede kompleks olduğundan gerçek anlamda yanına bile yaklaşamayan derin ağlar yine de inanılmaz işlere imza atıyor bu günlerde. \n",
    "\n",
    "İnsan beyninde milyonlarca bulunan nöronlar bilgisayar ortamında gerek hafıza gerek zaman gibi problemler yüzünden 10.000 ler civarında. Daha büyük çalışmalar var tabii ama hala geliştirme aşamalarında olduklarını görüyoruz okuyoruz.\n",
    "\n",
    "Neural Network için incelemek amaçlı aşağıdaki resme baktığımızda **perceptron** olarak adlandırılan yapıyı görmekteyiz. \n",
    "\n",
    "![percetron](images/perceptron.png)\n",
    "\n",
    "Yine lineer problemlerde olduğu gibi inputlarımız var. Hatta yine lineer problemlerde olduğu gibi ağırlık değerlerimiz de var. Ama ek olarak **activation function** ı görmekteyiz ki bu kısım çok önemli.\n",
    "\n",
    "**Aktivasyon fonksiyonu** ağımızın lineerligini non-linear hale dönüştürmeye yarıyor. Bunun detaylarına daha sonra ineceğiz.\n",
    "\n",
    "\n",
    "Şimd geneline değindik biraz daha detaya inmek için linear örneklerden non-linear'a doğru inceleyelim.\n"
   ]
  },
  {
   "cell_type": "markdown",
   "metadata": {},
   "source": [
    "## Basit bir nöral ağ yapısı ve hidden layer\n",
    "\n",
    "\n",
    "Aşağıda gördüğünüz olabilecek en basit yapılardan birisi. \n",
    "\n",
    "Farklı olarak karşımıza çıkan şey ise **hidden layer**. \n",
    "\n",
    "Nedir bu hidden layer? \n",
    "\n",
    "Hidden layer'larda çarprazlama işlemleri yapılıyor. Ne işe yaradığı ise çok net. Verdiğimiz inputları mümkün olduğunca farklı ağırlıkları deneyerek sonuca ulaşma olasılığımızı optimum noktaya getirmek.\n",
    "\n",
    "\n",
    "![nn1](images/nn1.png)"
   ]
  },
  {
   "cell_type": "markdown",
   "metadata": {},
   "source": [
    "Bu hidden layer'lardan istediğimiz kadar ekleyebileceğimiz gibi, içerdikleri düğüm sayılarını da istediğimiz kadar artırabiliriz. Bu da sonuca ulaşmamız için değerlendirememiz gereken olasık uzayını çok fazla genişletebilmemizi sağlıyor. "
   ]
  },
  {
   "cell_type": "markdown",
   "metadata": {},
   "source": [
    "![nn2](images/nn2.png)"
   ]
  },
  {
   "cell_type": "markdown",
   "metadata": {},
   "source": [
    "Bu yukarıda gördükleriniz **linear** modellerdi. Hepsi sadece bir output düğümüne sahip. Şimdi yine bir output ama aktivasyon fonksiyonlu örneğini inceleyelim.\n",
    "\n",
    "Aşağıdaki resimde ise iki hidden layer arasında bir de aktivasyon fonksiyonumuz var. Başlangıçta da bahsettiğm üzere bu aktivasyon fonksiyonu bizim linear yapımızı non-linear hale getirecek olan şey.\n",
    "\n",
    "Bu fonksiyonu da eklediğinizde çok daha zor problemlerin üstesinden gelebilecek hale geliyorsunuz. \n",
    "\n",
    "Bu konuyu kurs üzerinden alıp ekleyeceğim, resimde inceleyebilirsiniz.\n",
    "\n",
    "\n",
    "![nn3](images/nn3.png)\n",
    "\n"
   ]
  },
  {
   "cell_type": "markdown",
   "metadata": {},
   "source": [
    "![nn4](images/nn4.png)"
   ]
  },
  {
   "cell_type": "markdown",
   "metadata": {},
   "source": [
    "Ek Kaynaklar \n",
    "\n",
    "- [Google-original-page](https://developers.google.com/machine-learning/crash-course/introduction-to-neural-networks/anatomy)\n",
    "- [Neural Networks](https://www.codementor.io/@james_aka_yale/a-gentle-introduction-to-neural-networks-for-machine-learning-hkijvz7lp)"
   ]
  },
  {
   "cell_type": "markdown",
   "metadata": {},
   "source": [
    "**_Enes Çavuş_**"
   ]
  },
  {
   "cell_type": "code",
   "execution_count": null,
   "metadata": {},
   "outputs": [],
   "source": []
  }
 ],
 "metadata": {
  "kernelspec": {
   "display_name": "Python 3",
   "language": "python",
   "name": "python3"
  },
  "language_info": {
   "codemirror_mode": {
    "name": "ipython",
    "version": 3
   },
   "file_extension": ".py",
   "mimetype": "text/x-python",
   "name": "python",
   "nbconvert_exporter": "python",
   "pygments_lexer": "ipython3",
   "version": "3.7.6"
  }
 },
 "nbformat": 4,
 "nbformat_minor": 4
}
