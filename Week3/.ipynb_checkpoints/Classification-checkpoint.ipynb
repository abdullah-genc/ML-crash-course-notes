{
 "cells": [
  {
   "cell_type": "markdown",
   "metadata": {},
   "source": [
    "# Classification"
   ]
  },
  {
   "cell_type": "markdown",
   "metadata": {},
   "source": [
    "Hatırlatma!\n",
    " - Makine Öğrenmesi\n",
    " \n",
    "     - Supervised learning\n",
    "         - Regresssion\n",
    "         - Classification\n",
    "     - Unsupervised\n",
    "         - Clustering\n",
    "         - Association"
   ]
  },
  {
   "cell_type": "markdown",
   "metadata": {},
   "source": [
    "### Sınıflandırmayı daha iyi anlayabilmek için Regresyon ile arasındaki farkları inceleyerek başlayalım."
   ]
  },
  {
   "cell_type": "markdown",
   "metadata": {},
   "source": [
    "- Sınıflandırma **ayrık** veriler üzerinde çalışırken regresyon probremlerinde **sürekli** veriler üzerinde çalışılır\n",
    "- Sınıflandırma **sıralanmamış, dağınık** veriler ile, regresyon ise belli bir **düzene sahip, sıralanmış** veriler üzerinde işlem yapar\n",
    "- Model değerlendirme yöntemlerinde sınıflandırma algoritmalarında **'confusion matrix, accuracy, precision, recall, F1 score** gibi değerlendirme yöntemleri varken regresyonda **'mean squared error ( loss )'** kullanılır. (Burayı okuyorsanız bu terimlere aşina olmalısınız.)\n",
    "- Sınıflandırmada **kategorik** verilerle (spam, not spam, canser, not canser) , regresyonda ise **numeric** verilerle (click_count, median_house_value) çalışılır.\n",
    "\n"
   ]
  },
  {
   "cell_type": "markdown",
   "metadata": {},
   "source": [
    "Sınıflandırmada kullanılan Threshold değeri nedir?\n",
    "\n",
    "**Eşik değer** dediğimiz threshold, algortimamızın tahminlerinde kullanılır. Örneğin **spam** ya da **spam değil** diye tahminlerde bulunabilen bir algoritmamız var ve bu algoritma **0 - 1** arasında değerler tahmin ediyor. Yani **1 = 100% spam** , **0 = 0% spam değil** gibi. Eğer **0.48** ise ne yapacağız?. Burada algoritmamıza _\"Eşik değeri olarak 0.5 al ve bundan büyük veya eşit olanları \"spam\", küçük olanları \"not spam\" olarak bize döndür\"_ diyebiliriz. "
   ]
  },
  {
   "cell_type": "markdown",
   "metadata": {},
   "source": [
    "### **Confusion Matrix | True & False , Positive & Negative | Accuracy - Recall - Precision**\n",
    "\n",
    "\n",
    "Karşılaştırma kısmında bahsettiğim metrikler burada karşımıza çıkıyor, hepsi bir arada, tek bir şeye bağlı : **confusion matrix**\n",
    "\n",
    "\n",
    "\n",
    "\n",
    "Nedir bu confusion matrix?\n",
    "\n",
    "Confusion matrix, algoritmamızın bize ne kadar doğru ne kadar yanlış sonuçlar döndürüğünü tek bir karede gösterebilen matristir.\n",
    "\n",
    "\n",
    "![TPFN](images/TFPN.png)\n",
    "\n",
    "Görüldüğü üzere dört seçeneğimiz var. Bunları bir örnek ile anlatacağım.\n",
    "\n",
    "Elimizde örnek bir hikaye var : _Yalancı çoban_\n",
    "\n",
    "Çobanın iki seçeneği var: Kurt var , Kurt Yok\n",
    "\n",
    "Gerçekte iki seçenek var: Kurt Var , Kurt Yok\n",
    "\n",
    "\n",
    "Yani bu örnek 2 x 2 lik bir matris ile toplamda 4 olasılığımız olacak. (Bu 100 x 100 de olur bi sınır yok, elimizdeki özelliklere göre değişir.)\n",
    "\n",
    "---\n",
    "\n",
    "\n",
    "- True Positive ( TP ): Çoban Kurt VAR dedi ve gerçekten de kurt VAR. (Dürüst Çoban)\n",
    "- True Negative ( TN ): Çoban Kurt YOK dedi ve gerçekten de kurt YOK. (Dürüst Çoban)\n",
    "- False Positive ( FP ): Çoban kurt VAR dedi ama kurt YOK. (Yalancı Çoban)\n",
    "- False Negative ( FN ): Çoban kurt YOK dedi ama kurt VAR. (Yalancı Çoban)\n",
    "\n",
    "\n",
    "\n",
    "---\n",
    "\n",
    "\n",
    "![TPFN2](images/TFPN2.png)\n",
    "\n"
   ]
  },
  {
   "cell_type": "markdown",
   "metadata": {},
   "source": [
    "### **Accuracy ( Doğruluk ) - Recall ( Duyarlılık ) - Precision ( Kesinlik )** "
   ]
  },
  {
   "cell_type": "markdown",
   "metadata": {},
   "source": [
    "### **Accuracy**\n",
    "\n",
    "Doğruluk, modelimizin doğru tahminlerinin tüm tahminlerine oranıdır. \n",
    "\n",
    "Burada özet geçtiğimden dolayı daha fazla detaya, verdiğim ek kaynaklardan, aynı zamanda kursun kendi kaynağından ulaşabilirsiniz.\n",
    "\n",
    "![accuracy](images/accuracy.png)\n",
    "\n",
    "---\n",
    "\n",
    "### **Recall**\n",
    "Çobanımız, kurt olan tüm zamanlara kıyasla kaç kez gerçekten kurt olup olmadığını söyledi? \n",
    "\n",
    "**Note:**Kritik alanlarda (hastalık teşhisi gibi), dikkate alınması gereken bir noktadır. \n",
    "![recall](images/Recall.png)\n",
    "\n",
    "---\n",
    "### **Precision**\n",
    "Çobanımız, kurt olsa da olmasa da kaç kere \"kurt var\" demiş? Çobanımızın dürüstlüğünü ölçebiliriz.\n",
    "\n",
    "\n",
    "![precision](images/Precision.png)\n",
    "\n",
    "---\n",
    "\n",
    "\n",
    "### **ALL in ONE** ( FN - FP konumları yukarıdaki örnekten farklı, lütfen ona dikkat edelim! )\n",
    "\n",
    "![allinone](images/allinone.png)\n"
   ]
  },
  {
   "cell_type": "markdown",
   "metadata": {},
   "source": [
    "### **ROC and AUC** \n",
    "\n",
    "Modelimizin özeti olarak düşünebiliriz. Daha fazla detay için [şuradan](https://developers.google.com/machine-learning/crash-course/classification/roc-and-auc) konuyu inceleyebilirsiniz.\n",
    "\n"
   ]
  },
  {
   "cell_type": "markdown",
   "metadata": {},
   "source": [
    "**_Ekler_**\n",
    "-  [Classification](https://www.geeksforgeeks.org/ml-classification-vs-regression/?ref=rp)\n",
    "-  [Confusion Matrix](https://towardsdatascience.com/understanding-confusion-matrix-a9ad42dcfd62)\n",
    "-  [Türkçe ek kaynak](https://medium.com/data-science-tr/s%C4%B1n%C4%B1fland%C4%B1rma-modellerinde-ba%C5%9Far%C4%B1-kriterleri-2d86488799c6)"
   ]
  },
  {
   "cell_type": "markdown",
   "metadata": {},
   "source": [
    "\n",
    "\n",
    "**_Enes Çavuş_**\n",
    "\n"
   ]
  }
 ],
 "metadata": {
  "kernelspec": {
   "display_name": "Python 3",
   "language": "python",
   "name": "python3"
  },
  "language_info": {
   "codemirror_mode": {
    "name": "ipython",
    "version": 3
   },
   "file_extension": ".py",
   "mimetype": "text/x-python",
   "name": "python",
   "nbconvert_exporter": "python",
   "pygments_lexer": "ipython3",
   "version": "3.7.6"
  }
 },
 "nbformat": 4,
 "nbformat_minor": 4
}
