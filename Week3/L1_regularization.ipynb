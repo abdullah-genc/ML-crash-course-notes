{
 "cells": [
  {
   "cell_type": "markdown",
   "metadata": {},
   "source": [
    "# Regularization for Sparsity: L₁ Regularization"
   ]
  },
  {
   "cell_type": "markdown",
   "metadata": {},
   "source": [
    "Bu bölümde L1 regularization üzerinde duracağız, daha net anlaşılabilmesi için L2 regularization ile aralarındaki farklara bakacağız."
   ]
  },
  {
   "cell_type": "markdown",
   "metadata": {},
   "source": [
    "## L1 vs L2 Regularization"
   ]
  },
  {
   "cell_type": "markdown",
   "metadata": {},
   "source": [
    "Bu iki yöntem overfitting problemi için çözüm üretmekte ama aralarında çok önemli bir fark var. \n",
    "\n",
    "**L2 regularization'da** bahsettiğim ağırlıkları cezalandırma olayı burada daha farklı işliyor.\n"
   ]
  },
  {
   "cell_type": "markdown",
   "metadata": {},
   "source": [
    "En önemli 2 farkı şöyle listeleyelim\n",
    "\n",
    "- L2 **ağırlıkların karesini** kullanarak işlem yapıyor L1 ise **ağırlıkların mutlak değerini** kullanarak işlem yapıyor.\n",
    "\n",
    "- L2 anlamsız ağırlık değerlerini **neredeyse** 0'a indiriyor; L1 ise anlamsız ağrılık değerlerini **tam olarak** 0'a indiriyor."
   ]
  },
  {
   "cell_type": "markdown",
   "metadata": {},
   "source": [
    "![l1vsl2](images/l1vsl2.png)"
   ]
  },
  {
   "cell_type": "markdown",
   "metadata": {},
   "source": [
    "Ek kaynaklar\n",
    "\n",
    "[Ek - 1](https://developers.google.com/machine-learning/crash-course/regularization-for-sparsity/l1-regularization)\n",
    "\n",
    "[Ek - 2](https://towardsdatascience.com/l1-and-l2-regularization-methods-ce25e7fc831c)"
   ]
  },
  {
   "cell_type": "markdown",
   "metadata": {},
   "source": [
    "**_Enes Çavuş_**"
   ]
  },
  {
   "cell_type": "code",
   "execution_count": null,
   "metadata": {},
   "outputs": [],
   "source": []
  }
 ],
 "metadata": {
  "kernelspec": {
   "display_name": "Python 3",
   "language": "python",
   "name": "python3"
  },
  "language_info": {
   "codemirror_mode": {
    "name": "ipython",
    "version": 3
   },
   "file_extension": ".py",
   "mimetype": "text/x-python",
   "name": "python",
   "nbconvert_exporter": "python",
   "pygments_lexer": "ipython3",
   "version": "3.7.6"
  }
 },
 "nbformat": 4,
 "nbformat_minor": 4
}
