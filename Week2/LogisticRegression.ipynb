{
 "cells": [
  {
   "cell_type": "markdown",
   "metadata": {},
   "source": [
    "# Logistic Regression  ( Probability )"
   ]
  },
  {
   "cell_type": "markdown",
   "metadata": {},
   "source": [
    "Linear Regression'da modelimizin verebileceği çıktılar belliydi. **'Spam'** ya da **'Not Spam'**. Ama Logistic Regression'da durumlar biraz farklı mesela cevap şöyle olabilir: '**Bu mail 80%  ihtimalle spam'**. Evet konumuzun temeli **OLASILIK**"
   ]
  },
  {
   "cell_type": "markdown",
   "metadata": {},
   "source": [
    "Sağlık sektöründe kullanılan bi makine öğrenmesi modelini düşünün ( ne kadar kritik kararlar alması gerektiğini tahmin edebiliyorsunuzdur ). Kanser tedavisinde kullanılan model, sizce bu modelin sadece iki adet çıktı vermesi ne kadar doğru. **Kanser** ya da **kanser değil**. Çok riskli dimi? İşte şimdi devreye Logistic Regression'ı sokabiliriz.\n",
    "\n",
    "\n",
    "![lr1](images/lr1.png)\n"
   ]
  },
  {
   "cell_type": "markdown",
   "metadata": {},
   "source": [
    "Bize 0 - 1 arasında değerler döndürecek olan bu modelimiz Logistic regression  kullanılarak geliştirilebilir.\n",
    "\n",
    "Bir örnek verecek olursak:\n",
    "Kanser teşhisinde 0.5 değeri orta bir değer olsun. Bizim çıktımız ise 0.48 olsun. Eğer modelimiz linear regression olsaydı bize vereceği cevap belkide **kanser değil** olacaktı ama logistic regression'da bize **48% olasılıkla kanser olma ihitimali var** olacaktır. Sanırım ne kadar önemli olduğu anlaşılmıştır. "
   ]
  },
  {
   "cell_type": "markdown",
   "metadata": {},
   "source": [
    "Ayrıca Linear Regression ile karşılaştırıldığında loss fonksiyonunda da farklar var. \n",
    "\n",
    "Linear Regression **squared loss function** kullanırken Logistic Regression **Log Loss Function** kullnamaktadır.\n",
    "\n",
    "![lr2](images/lr2.png)"
   ]
  },
  {
   "cell_type": "markdown",
   "metadata": {},
   "source": [
    "Bir diğer konu ise **Regularization**'ın burada da çok önemli olmasıdır. Birçok konuda yardımı dokunacaktır. \n",
    "\n",
    "Çok iyi açıklayamayacağım ve şu anda çok önemli olmadığı için ayrıntıya inmeyeceğim."
   ]
  },
  {
   "cell_type": "markdown",
   "metadata": {},
   "source": [
    "**_Enes Çavuş_**"
   ]
  },
  {
   "cell_type": "code",
   "execution_count": null,
   "metadata": {},
   "outputs": [],
   "source": []
  }
 ],
 "metadata": {
  "kernelspec": {
   "display_name": "Python 3",
   "language": "python",
   "name": "python3"
  },
  "language_info": {
   "codemirror_mode": {
    "name": "ipython",
    "version": 3
   },
   "file_extension": ".py",
   "mimetype": "text/x-python",
   "name": "python",
   "nbconvert_exporter": "python",
   "pygments_lexer": "ipython3",
   "version": "3.7.6"
  }
 },
 "nbformat": 4,
 "nbformat_minor": 4
}
