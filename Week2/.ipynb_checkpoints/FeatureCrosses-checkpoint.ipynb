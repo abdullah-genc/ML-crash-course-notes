{
 "cells": [
  {
   "cell_type": "markdown",
   "metadata": {},
   "source": [
    "# Feature Crosses"
   ]
  },
  {
   "cell_type": "markdown",
   "metadata": {},
   "source": [
    "---"
   ]
  },
  {
   "cell_type": "markdown",
   "metadata": {},
   "source": [
    "Şu ana kadar her bir feature'ı tek tek ele aldık. Bu linear problemlerde oldukça işimize yarayabiliyor evet ama düz bir çizgi ile her türlü problemi çözemeyiz. Parabolik, daha fazla boyutlu problemlerde bu bizi zorlar. Bu yüzden feature cross gibi teknikler çok işimize yarayacaktır."
   ]
  },
  {
   "cell_type": "markdown",
   "metadata": {},
   "source": [
    "Aşağıdaki resimlerde de görüleceği üzere tek çizgi yetersiz kalmakta"
   ]
  },
  {
   "cell_type": "markdown",
   "metadata": {},
   "source": [
    "![f1](images/f1.png)                                     ![f2](images/f2.png)"
   ]
  },
  {
   "cell_type": "markdown",
   "metadata": {},
   "source": [
    "Figure 1'de x1 ve x2 feature'ları ayrı ayrı kullanılabilir ve işe yarar. Figure 3'de ise bir başka yöntem deneyebiliriz. (x1.x2)  bu çaprazlamayı farklı bir özellikmiş gibi modelimize verebiliriz ve modelmiz bundan çok güzel sonuçlar çıkaracaktır."
   ]
  },
  {
   "cell_type": "markdown",
   "metadata": {},
   "source": [
    "## ÖRNEK"
   ]
  },
  {
   "cell_type": "markdown",
   "metadata": {},
   "source": [
    "Üstte yazdıklarım ile pek bir şey anlaşılmadığının farkındayım ve gerçek hayattan bir örnek ile konuya açıklık getireceğim. \n",
    "\n",
    "Elimizde **[x1 , x2 ] = [ konum , oda_sayısı]** diye iki özelligimiz olsun ve bunları birlikte kullanırsak veya ayrı ayrı kullanırsak neler olabileceğini gözlemleyelim"
   ]
  },
  {
   "cell_type": "markdown",
   "metadata": {},
   "source": [
    "Örnek iki evi ele alalım. Bir tanesi İstanbulda ve 4 odalı. Bir diğeri ise Sakaryada ve yine 4 odalı. Bilineceği üzere bu evlerin fiyatları aynı olmayacaktır. \n",
    "Fiyatlandırmayı şöyle yapalım:\n",
    "- İstanbuldaki evimiz : 500.000 TL\n",
    "- Sakaryadaki evimiz : 300.000 TL\n",
    "\n",
    "Oda sayılarından ziyade konumun fiyata etkili olduğunu biliyoruz. Şimdi her ikisinde de oda sayılarını 1 azaltalım. Bakalım fiyatlar nasıl oynayacak.\n",
    "- 3 odalı İstanbuldaki evimiz 400.000 TL\n",
    "- 3 odalı Sakaryadaki evimiz 250.000 TL\n",
    "\n",
    "Her ikisinde de oda sayısı 1 azalmasına rağmen fiyatlarda o eşit düşüşü yakalayamadık. İstanbul 100.000 Sakarya ise 50.000 azaldı.\n"
   ]
  },
  {
   "cell_type": "markdown",
   "metadata": {},
   "source": [
    "Bunu sadece x1 ve x2 özelliklerini ayrı ayrı verdiğmizde modelimiz sizce net bir şekilde anlayabilir mi? Hayır. Çünkü modelimiz oda sayılarını kendi aralarında karşılatırıyor. \" oda sayısı artarsa fiyat artar mesela 60.000 \".\n",
    "\n",
    "Ama x1.x2 özelliğimizi de eğitime eklediğimizde bu kez diyeceği şu olur. \" İstanbulda oda sayısı artışına göre fiyat artışı biraz daha fazla mesela 100.000 ama Sakaryada bu değişim daha az mesela 50.000 \" \n",
    "\n",
    "Evleri yorumlarken konum bazlı fiyat değişikliklerini anlama açısından daha güçlü bir modelimiz oldu.\n",
    "\n",
    "Umarım yeterince temiz bir açıklama olmuştur. "
   ]
  },
  {
   "cell_type": "markdown",
   "metadata": {},
   "source": [
    "Ek Kaynaklar:\n",
    "\n",
    "- [Course Link](https://developers.google.com/machine-learning/crash-course/feature-crosses/video-lecture)"
   ]
  },
  {
   "cell_type": "markdown",
   "metadata": {},
   "source": [
    "**_Enes Çavuş_**"
   ]
  }
 ],
 "metadata": {
  "kernelspec": {
   "display_name": "Python 3",
   "language": "python",
   "name": "python3"
  },
  "language_info": {
   "codemirror_mode": {
    "name": "ipython",
    "version": 3
   },
   "file_extension": ".py",
   "mimetype": "text/x-python",
   "name": "python",
   "nbconvert_exporter": "python",
   "pygments_lexer": "ipython3",
   "version": "3.7.6"
  }
 },
 "nbformat": 4,
 "nbformat_minor": 4
}
