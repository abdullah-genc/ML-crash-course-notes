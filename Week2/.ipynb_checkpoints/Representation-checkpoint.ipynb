{
 "cells": [
  {
   "cell_type": "markdown",
   "metadata": {},
   "source": [
    "# Representation"
   ]
  },
  {
   "cell_type": "markdown",
   "metadata": {},
   "source": [
    "Makine öğrenmesinin belli başlı aşamaları vardır:\n",
    "- Veri Toplama\n",
    "- Veri hazırlama\n",
    "- Model / algoritma seçimi\n",
    "- Eğitim ... gibi\n",
    "\n",
    "Bu aşamalardan en çok zaman alanı veri hazırlama / temizleme aşamasıdır. Verilerimizi farklı kaynaklardan toplarken bazı farklılıklar olacaktır. Örneğin bir kaynakta _cadde_ diye bir özellik varken bir diğerinde bu değerler boş bıraklımış olabilir ya da anlamsız veriler girilmiş de olabilri, bunun gibi birçok durum vardır. Bunlara en sonda biraz değineceğim.\n",
    "\n",
    "Bu aşamalarda dikkat etmemiz gereken en önemli nokta, modleimize vereceğimiz verinin 'raw data' yani bozuk, dağınık, düzenlenmemiş veri, değil de; nımeric, düzenlenmiş, boşluklar giderilmiş, outlier'lardan arındırılmış, modelimizin yorumlayabileceği tarzda veriler olması gerekliliğidir.\n",
    "\n",
    "Sonrası zaten çok daha kolay hale gelecektir.\n",
    "\n"
   ]
  },
  {
   "cell_type": "markdown",
   "metadata": {},
   "source": [
    "Konumuz olan representation ise ** veri hazırlama ** kısmında yer alır ve çok önemlidir. Hatta o kadar önemlidir ki modelimizin kaderi bu aşamaya bağlıdır diyebiliriz.\n",
    "Birkaç örnek ile konuyu çok daha rahat anlayıp noktalayalım."
   ]
  },
  {
   "cell_type": "markdown",
   "metadata": {},
   "source": [
    "### Bu resimde elimizdeki ev biligileri \"raw\" olarak bulunmakta. Biz bunları modelimizin yorumlayabileceği bir hale yani numeric ve vektörel hale, getiriyoruz. Buna \"feature engineering\" deniyor ve çok önemli bir aşama."
   ]
  },
  {
   "cell_type": "markdown",
   "metadata": {},
   "source": [
    "![figure1](images/1.png)"
   ]
  },
  {
   "cell_type": "markdown",
   "metadata": {},
   "source": [
    "### Bu resimde ise zaten numeric bir veriyi yine numeric olarak göstermişiz. pek bi anlamı yok çünkü eski hali de gayet anlaşılabilir haldeydi. Yani buradan anlayacağımız, zaten numeric değerlere sahip özellikler üzerinde pek fazla işlem yapmamız gerekmeyeceğidir."
   ]
  },
  {
   "cell_type": "markdown",
   "metadata": {},
   "source": [
    "![figure2](images/2.png)"
   ]
  },
  {
   "cell_type": "markdown",
   "metadata": {},
   "source": [
    "### Bu resim ise bizim için oldukça önemli. Elimizde string ( kategorik ) veriler bulunduğunda; örneğin cadde isimleri, bunu modelimiz yorumlauyamaz çünkü o sayılar üzerinde işlem yapabilmekte.\n",
    "\n",
    "### Bir çözüm olarak 6 caddemizi 0 1 2 3 4 5 diye numaralandırmayı düşünebilirsiniz ama bu kez ağırlıkları ayarlarken çok dengesiz sonuçlar elde edebilir. Yani pek güveniliir bir yol değil a çıkçası. ( y = w1.x1 + w2.x2 ... )\n",
    "\n",
    "### Burada caddeleri bir \"binary vector\" e atmalıyız. One-hot encoding dediğimiz yöntemi daha sonra açıklayacağım. Kısacası elimizde bir binary vector var ve modelimiz hangi cadde üzerinde çlışıyorsa bu caddenin değeri 1 diğer caddeler 0 olarak alınacak. [ 0,0,0,0,1,0,0]"
   ]
  },
  {
   "cell_type": "markdown",
   "metadata": {},
   "source": [
    "![figure3](3.png)"
   ]
  },
  {
   "cell_type": "markdown",
   "metadata": {},
   "source": [
    "# Bir özellik nasıl olmalı ? "
   ]
  },
  {
   "cell_type": "markdown",
   "metadata": {},
   "source": [
    "**1 -** Şu iki özelliğe bakalım: \n",
    "    - Ev tipi: Apartment, Cabin, castle ...\n",
    "    - Eşşiz id: 876789LWEBXY87435\n",
    "Ev tipi bizim için evin değerini belirlememizde oldukça yararlı bir özellik olabiliyorken, evin id'si işimize yaramayacak bir özellik bu yüzden bunun gibi özelliklerle modelimizi yormamalıyız."
   ]
  },
  {
   "cell_type": "markdown",
   "metadata": {},
   "source": [
    "**2 - Temiz veri kullanmaya özen gösterelim.** Verileri giren mühendis kendi çapında nalamlandırabileceği değerleri girmiş olabilir ama  **user_age: 250** bizim için pek bi anlam ifade etmemektedir. **47** gibi dikkate değerleri kullanırsak modelimiz için daha iyi olacaktır."
   ]
  },
  {
   "cell_type": "markdown",
   "metadata": {},
   "source": [
    "**3 - Boş veya yanlış verilerden kaçının.** Model bunları anlamaz ya da yanlış yorumlayabilir. Örneğin **kalite_standartı** diye bir özelliğimiz olsun ve 0 - 1 arasında değerlerden oluşşun. Mühendisimiz **-1** girmiş. Bu kabul edilemez. Ya da **kalite_standart** belirtilmemiş de olabilir. Bu gibi durumlar için ise **_kalite_standartı_belirtilmis_mi_** gibi özellikler de kullanılabilir."
   ]
  },
  {
   "cell_type": "markdown",
   "metadata": {},
   "source": [
    "**4 - Sürekli değişebilecek verileri olan özellikleri kullanmaktan kaçınmalıyız.** Örneğin, biraz saçma bir örnek olsa da, evdeğeri belirleyen bir modeli hava durumu gibi özellikler kullanarak eğitmek pek anlamlı görünmemektedir."
   ]
  },
  {
   "cell_type": "markdown",
   "metadata": {},
   "source": [
    "## Veri Temizleme"
   ]
  },
  {
   "cell_type": "markdown",
   "metadata": {},
   "source": [
    "## **1- Scaling**\n",
    "\n",
    "Örneğin elimizde 100 - 900 arası değerlere sahip bir özellik var. Biz bunu 0 - 1 arasına sıkıştırabiliriz. 100 yerine 0.1 450 yerine 0.45.  Bu **scaling**. Büyük değer aralıklarında modelimiz ağırlık seçimlerinde zorlanacaktır. Scaling ile bunun önüne geçilebilir."
   ]
  },
  {
   "cell_type": "markdown",
   "metadata": {},
   "source": [
    "## **2 - Outlier'lardan kurtulma** \n",
    "Resimi incelediğimizde kişi başı 40 - 50 oda bulunabileceğinden bahsetmektedir. çok mantıksız değil mi ? \n",
    "Bu uzun kuyruktan kurtulmamaız gerek ama nasıl ?\n",
    "\n"
   ]
  },
  {
   "cell_type": "markdown",
   "metadata": {},
   "source": [
    "![o1](images/o1.png)"
   ]
  },
  {
   "cell_type": "markdown",
   "metadata": {},
   "source": [
    "**log alma**\n",
    "log ( ( totalRoom / population ) + 1 ) . Bu verimizi nispeten daha mantıklı hale getirdi. Ama hala bir dengesizlik var. "
   ]
  },
  {
   "cell_type": "markdown",
   "metadata": {},
   "source": [
    "![o2](images/02.png)"
   ]
  },
  {
   "cell_type": "markdown",
   "metadata": {},
   "source": [
    "**Kırpma**\n",
    "Verimizin mantığın şaştığı kısımlardan itibaren kırpılması ve o eski abartılı değerleri en mantıklı bir değere eşleme ( bizi burada 4.0 seçmişiz )"
   ]
  },
  {
   "cell_type": "markdown",
   "metadata": {},
   "source": [
    "![o3](images/o3.png)"
   ]
  },
  {
   "cell_type": "markdown",
   "metadata": {},
   "source": [
    "## **3 - Binning**\n",
    "\n",
    "Binning ile özelliğimizdeki çok küçük değer değişimlerini göz ardı edip bu değerleri belli aralıklara indirgiyoruz. Resimde de görüldüğü üzere evimizin enlem değeri 34 - 36 gibi farklı değerler olmasına rağmen bunları tek bir aralıkta 30 - 40 olarak alıyoruz, yani 10 farklı değerimiz varken ( 30 31 32 ... 39 ), biz bunu 1'e indirdik. Çok daha kullanışlı hale geldi ve karmaşıklıktan arındı."
   ]
  },
  {
   "cell_type": "markdown",
   "metadata": {},
   "source": [
    "![o4](images/o4.png)  ![o5](images/o5.png)"
   ]
  },
  {
   "cell_type": "markdown",
   "metadata": {},
   "source": [
    "## **4 - Scrubbing** \n",
    "\n",
    "Şu ana kadar hep elimizde güzel veriler olabileceğini göz önünde bulundurduk. Ama gerçek hayatta veriler önümüze bu kadar temiz ve düzenlenmiş olarak gelmeyecek maalesef bu yüzden birkaç veri temizlem adımlarında bahsedicem. \n",
    "\n",
    " - **İhmal edilen değerler** : Evimizin yaşı girilmemiş. NaN\n",
    " - **Çoğaltılmış örnekler** : bir evi  kere girilmiş olarak görebilirsiniz. Aynı değerler aynı ev. Gereksiz.\n",
    " - **Kötü etiketlenme**: Portakalı greyfurt olarak etiketleme.\n",
    " - **Kötü özellik değerleri** : 7% yerine %7 girilmiş değer.\n",
    " \n",
    "Bu özellikleri - değerleri - etiketleri bulup verisetinizden atabilir ya da düzeltebilirsiniz. Pandas kütüphanesi kullanmanız sizin için çok yararlı olacaktır. Eğer pandas hakkında hiçbir bilginiz yok ise başlangıç olarak şu [video serisinden](https://www.youtube.com/playlist?list=PLk54I7lqQSsaV8SxQDj19JVKfE_cM-Skp) yararlanabilirsiniz."
   ]
  },
  {
   "cell_type": "markdown",
   "metadata": {},
   "source": []
  },
  {
   "cell_type": "markdown",
   "metadata": {},
   "source": [
    "**_Enes Çavuş_**"
   ]
  },
  {
   "cell_type": "code",
   "execution_count": null,
   "metadata": {},
   "outputs": [],
   "source": []
  }
 ],
 "metadata": {
  "kernelspec": {
   "display_name": "Python 3",
   "language": "python",
   "name": "python3"
  },
  "language_info": {
   "codemirror_mode": {
    "name": "ipython",
    "version": 3
   },
   "file_extension": ".py",
   "mimetype": "text/x-python",
   "name": "python",
   "nbconvert_exporter": "python",
   "pygments_lexer": "ipython3",
   "version": "3.7.6"
  }
 },
 "nbformat": 4,
 "nbformat_minor": 4
}
